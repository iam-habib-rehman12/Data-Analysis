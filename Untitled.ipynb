{
 "cells": [
  {
   "cell_type": "code",
   "id": "ffb8cfdc-3472-4026-97e0-157b9c024bad",
   "metadata": {
    "ExecuteTime": {
     "end_time": "2025-07-04T07:05:50.418516Z",
     "start_time": "2025-07-04T07:05:50.404237Z"
    }
   },
   "source": [
    "x=10"
   ],
   "outputs": [],
   "execution_count": 1
  },
  {
   "cell_type": "raw",
   "id": "c431b40c-5869-4084-995e-0d662ecf91b9",
   "metadata": {},
   "source": [
    "print(x)"
   ]
  },
  {
   "metadata": {},
   "cell_type": "markdown",
   "source": "",
   "id": "a46b90adc8bc812f"
  },
  {
   "metadata": {
    "SqlCellData": {
     "variableName$1": "df_sql1"
    }
   },
   "cell_type": "code",
   "outputs": [],
   "execution_count": null,
   "source": "%%sql\n",
   "id": "981aad478680791d"
  }
 ],
 "metadata": {
  "kernelspec": {
   "display_name": "Python 3 (ipykernel)",
   "language": "python",
   "name": "python3"
  },
  "language_info": {
   "codemirror_mode": {
    "name": "ipython",
    "version": 3
   },
   "file_extension": ".py",
   "mimetype": "text/x-python",
   "name": "python",
   "nbconvert_exporter": "python",
   "pygments_lexer": "ipython3",
   "version": "3.13.5"
  }
 },
 "nbformat": 4,
 "nbformat_minor": 5
}
